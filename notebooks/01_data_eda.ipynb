{
 "cells": [
  {
   "cell_type": "markdown",
   "id": "5722d144",
   "metadata": {},
   "source": [
    "# Sentiment-Enhanced Stock Predictor — End-to-End Workflow\n",
    "\n",
    "This notebook walks through the full MVP pipeline:\n",
    "\n",
    "1. Setup & imports\n",
    "2. Build dataset (prices + sentiment)\n",
    "3. Feature engineering & target creation\n",
    "4. EDA\n",
    "5. Train LSTM models (per ticker)\n",
    "6. Predict & conservative backtest\n",
    "7. Visualize results & compute metrics\n",
    "\n",
    "**Pre-reqs**\n",
    "- Create `.env` with `NEWSAPI_KEY=...`\n",
    "- Install requirements: `pip install -r requirements.txt`\n",
    "- From repo root.\n"
   ]
  },
  {
   "cell_type": "code",
   "execution_count": 4,
   "id": "2a504b7d",
   "metadata": {},
   "outputs": [
    {
     "name": "stdout",
     "output_type": "stream",
     "text": [
      "Working directory: /Users/abhirupghosh/Documents/Work/job_preparation/case_studies/sentiment-enhanced-stock-predictor\n"
     ]
    }
   ],
   "source": [
    "# Cell: Setup & imports\n",
    "import os\n",
    "import sys\n",
    "import json\n",
    "import datetime as dt\n",
    "from pathlib import Path\n",
    "import pandas as pd\n",
    "import numpy as np\n",
    "import matplotlib.pyplot as plt\n",
    "\n",
    "repo_root = Path.cwd().parent  # go up one directory\n",
    "if str(repo_root) not in sys.path:\n",
    "    sys.path.insert(0, str(repo_root))\n",
    "\n",
    "# helper plotting defaults\n",
    "plt.rcParams[\"figure.figsize\"] = (10, 5)\n",
    "\n",
    "# convenience utils\n",
    "def show_df_head(df, n=5):\n",
    "    display(df.head(n))\n",
    "\n",
    "print(\"Working directory:\", repo_root)\n"
   ]
  },
  {
   "cell_type": "markdown",
   "id": "3b32911a",
   "metadata": {},
   "source": [
    "## Configuration: tickers, date range, model params\n",
    "Set the assets and hyperparameters for the run below."
   ]
  },
  {
   "cell_type": "code",
   "execution_count": 5,
   "id": "f509067e",
   "metadata": {},
   "outputs": [
    {
     "name": "stdout",
     "output_type": "stream",
     "text": [
      "Tickers: ['AAPL', 'MSFT', 'NVDA'] Start: 2023-01-01 End: 2025-09-04\n"
     ]
    }
   ],
   "source": [
    "# Cell: configuration\n",
    "TICKERS = [\"AAPL\", \"MSFT\", \"NVDA\"]          # start small for speed\n",
    "START = \"2023-01-01\"\n",
    "END = dt.date.today().isoformat()\n",
    "FEATURES_PATH = \"data/processed/features.parquet\"\n",
    "LOOKBACK = 10\n",
    "EPOCHS = 8   # keep small for quick runs; increase later\n",
    "THRESHOLD = 0.75\n",
    "HOLD_DAYS = 3\n",
    "\n",
    "print(\"Tickers:\", TICKERS, \"Start:\", START, \"End:\", END)\n"
   ]
  },
  {
   "cell_type": "markdown",
   "id": "54d17408",
   "metadata": {},
   "source": [
    "# 1) Build dataset (prices + sentiment + features + targets)\n",
    "\n",
    "This step:\n",
    "- fetches prices (via `src.data_fetch.fetch_prices`)\n",
    "- fetches headlines via NewsAPI and scores them with VADER (via `src.sentiment.get_daily_sentiment`)\n",
    "- computes technical features (via `src.features.add_technical_features` + `merge_sentiment`)\n",
    "- computes `future_return_3d` and `target`\n",
    "- saves result to `data/processed/features.parquet`\n"
   ]
  },
  {
   "cell_type": "code",
   "execution_count": 6,
   "id": "db22a0d0",
   "metadata": {},
   "outputs": [
    {
     "name": "stderr",
     "output_type": "stream",
     "text": [
      "/Users/abhirupghosh/Documents/Work/job_preparation/case_studies/sentiment-enhanced-stock-predictor/src/data_fetch.py:14: FutureWarning: The previous implementation of stack is deprecated and will be removed in a future version of pandas. See the What's New notes for pandas 2.1.0 for details. Specify future_stack=True to adopt the new implementation and silence this warning.\n",
      "  df = df.stack(level=1).rename_axis([\"Date\",\"Ticker\"]).reset_index()\n"
     ]
    },
    {
     "name": "stdout",
     "output_type": "stream",
     "text": [
      "Saved features to data/processed/features.parquet with shape (2007, 18)\n",
      "Saved features to: data/processed/features.parquet\n"
     ]
    }
   ],
   "source": [
    "# Cell: build dataset (calls src.build_dataset.main)\n",
    "# We call the build_dataset main function to create features parquet.\n",
    "from importlib import import_module\n",
    "mod = import_module(\"src.build_dataset\")\n",
    "# mod.main(tickers, start, end, out_path)\n",
    "mod.main(TICKERS, START, END, FEATURES_PATH)\n",
    "print(\"Saved features to:\", FEATURES_PATH)"
   ]
  },
  {
   "cell_type": "markdown",
   "id": "8c109cf9",
   "metadata": {},
   "source": [
    "# Inspect the created features"
   ]
  },
  {
   "cell_type": "code",
   "execution_count": 7,
   "id": "ea19bd7a",
   "metadata": {},
   "outputs": [
    {
     "name": "stdout",
     "output_type": "stream",
     "text": [
      "Features shape: (2007, 18)\n",
      "Columns: ['Date', 'Ticker', 'Close', 'High', 'Low', 'Open', 'Volume', 'Return_1d', 'SMA_5', 'SMA_10', 'SMA_20', 'Vol_10', 'date', 'sentiment', 'ticker', 'sentiment_3d', 'future_return_3d', 'target']\n"
     ]
    },
    {
     "data": {
      "text/html": [
       "<div>\n",
       "<style scoped>\n",
       "    .dataframe tbody tr th:only-of-type {\n",
       "        vertical-align: middle;\n",
       "    }\n",
       "\n",
       "    .dataframe tbody tr th {\n",
       "        vertical-align: top;\n",
       "    }\n",
       "\n",
       "    .dataframe thead th {\n",
       "        text-align: right;\n",
       "    }\n",
       "</style>\n",
       "<table border=\"1\" class=\"dataframe\">\n",
       "  <thead>\n",
       "    <tr style=\"text-align: right;\">\n",
       "      <th></th>\n",
       "      <th>Date</th>\n",
       "      <th>Ticker</th>\n",
       "      <th>Close</th>\n",
       "      <th>High</th>\n",
       "      <th>Low</th>\n",
       "      <th>Open</th>\n",
       "      <th>Volume</th>\n",
       "      <th>Return_1d</th>\n",
       "      <th>SMA_5</th>\n",
       "      <th>SMA_10</th>\n",
       "      <th>SMA_20</th>\n",
       "      <th>Vol_10</th>\n",
       "      <th>date</th>\n",
       "      <th>sentiment</th>\n",
       "      <th>ticker</th>\n",
       "      <th>sentiment_3d</th>\n",
       "      <th>future_return_3d</th>\n",
       "      <th>target</th>\n",
       "    </tr>\n",
       "  </thead>\n",
       "  <tbody>\n",
       "    <tr>\n",
       "      <th>0</th>\n",
       "      <td>2023-01-03</td>\n",
       "      <td>AAPL</td>\n",
       "      <td>123.330643</td>\n",
       "      <td>129.079559</td>\n",
       "      <td>122.443158</td>\n",
       "      <td>128.468186</td>\n",
       "      <td>112117500</td>\n",
       "      <td>NaN</td>\n",
       "      <td>NaN</td>\n",
       "      <td>NaN</td>\n",
       "      <td>NaN</td>\n",
       "      <td>NaN</td>\n",
       "      <td>2023-01-03</td>\n",
       "      <td>0.0</td>\n",
       "      <td>None</td>\n",
       "      <td>0.0</td>\n",
       "      <td>0.036380</td>\n",
       "      <td>1</td>\n",
       "    </tr>\n",
       "    <tr>\n",
       "      <th>1</th>\n",
       "      <td>2023-01-04</td>\n",
       "      <td>AAPL</td>\n",
       "      <td>124.602707</td>\n",
       "      <td>126.870724</td>\n",
       "      <td>123.340509</td>\n",
       "      <td>125.125335</td>\n",
       "      <td>89113600</td>\n",
       "      <td>0.010314</td>\n",
       "      <td>NaN</td>\n",
       "      <td>NaN</td>\n",
       "      <td>NaN</td>\n",
       "      <td>NaN</td>\n",
       "      <td>2023-01-04</td>\n",
       "      <td>0.0</td>\n",
       "      <td>None</td>\n",
       "      <td>0.0</td>\n",
       "      <td>0.029994</td>\n",
       "      <td>1</td>\n",
       "    </tr>\n",
       "    <tr>\n",
       "      <th>2</th>\n",
       "      <td>2023-01-05</td>\n",
       "      <td>AAPL</td>\n",
       "      <td>123.281342</td>\n",
       "      <td>125.993097</td>\n",
       "      <td>123.024963</td>\n",
       "      <td>125.361998</td>\n",
       "      <td>80962700</td>\n",
       "      <td>-0.010605</td>\n",
       "      <td>NaN</td>\n",
       "      <td>NaN</td>\n",
       "      <td>NaN</td>\n",
       "      <td>NaN</td>\n",
       "      <td>2023-01-05</td>\n",
       "      <td>0.0</td>\n",
       "      <td>None</td>\n",
       "      <td>0.0</td>\n",
       "      <td>0.045673</td>\n",
       "      <td>1</td>\n",
       "    </tr>\n",
       "    <tr>\n",
       "      <th>3</th>\n",
       "      <td>2023-01-06</td>\n",
       "      <td>AAPL</td>\n",
       "      <td>127.817360</td>\n",
       "      <td>128.478040</td>\n",
       "      <td>123.153145</td>\n",
       "      <td>124.257571</td>\n",
       "      <td>87754700</td>\n",
       "      <td>0.036794</td>\n",
       "      <td>NaN</td>\n",
       "      <td>NaN</td>\n",
       "      <td>NaN</td>\n",
       "      <td>NaN</td>\n",
       "      <td>2023-01-06</td>\n",
       "      <td>0.0</td>\n",
       "      <td>None</td>\n",
       "      <td>0.0</td>\n",
       "      <td>0.029857</td>\n",
       "      <td>1</td>\n",
       "    </tr>\n",
       "    <tr>\n",
       "      <th>4</th>\n",
       "      <td>2023-01-09</td>\n",
       "      <td>AAPL</td>\n",
       "      <td>128.339996</td>\n",
       "      <td>131.554669</td>\n",
       "      <td>128.083618</td>\n",
       "      <td>128.655553</td>\n",
       "      <td>70790800</td>\n",
       "      <td>0.004089</td>\n",
       "      <td>125.474409</td>\n",
       "      <td>NaN</td>\n",
       "      <td>NaN</td>\n",
       "      <td>NaN</td>\n",
       "      <td>2023-01-09</td>\n",
       "      <td>0.0</td>\n",
       "      <td>None</td>\n",
       "      <td>0.0</td>\n",
       "      <td>0.025048</td>\n",
       "      <td>1</td>\n",
       "    </tr>\n",
       "  </tbody>\n",
       "</table>\n",
       "</div>"
      ],
      "text/plain": [
       "        Date Ticker       Close        High         Low        Open  \\\n",
       "0 2023-01-03   AAPL  123.330643  129.079559  122.443158  128.468186   \n",
       "1 2023-01-04   AAPL  124.602707  126.870724  123.340509  125.125335   \n",
       "2 2023-01-05   AAPL  123.281342  125.993097  123.024963  125.361998   \n",
       "3 2023-01-06   AAPL  127.817360  128.478040  123.153145  124.257571   \n",
       "4 2023-01-09   AAPL  128.339996  131.554669  128.083618  128.655553   \n",
       "\n",
       "      Volume  Return_1d       SMA_5  SMA_10  SMA_20  Vol_10       date  \\\n",
       "0  112117500        NaN         NaN     NaN     NaN     NaN 2023-01-03   \n",
       "1   89113600   0.010314         NaN     NaN     NaN     NaN 2023-01-04   \n",
       "2   80962700  -0.010605         NaN     NaN     NaN     NaN 2023-01-05   \n",
       "3   87754700   0.036794         NaN     NaN     NaN     NaN 2023-01-06   \n",
       "4   70790800   0.004089  125.474409     NaN     NaN     NaN 2023-01-09   \n",
       "\n",
       "   sentiment ticker  sentiment_3d  future_return_3d  target  \n",
       "0        0.0   None           0.0          0.036380       1  \n",
       "1        0.0   None           0.0          0.029994       1  \n",
       "2        0.0   None           0.0          0.045673       1  \n",
       "3        0.0   None           0.0          0.029857       1  \n",
       "4        0.0   None           0.0          0.025048       1  "
      ]
     },
     "metadata": {},
     "output_type": "display_data"
    }
   ],
   "source": [
    "# Cell: load features and quick check\n",
    "df = pd.read_parquet(FEATURES_PATH)\n",
    "print(\"Features shape:\", df.shape)\n",
    "print(\"Columns:\", df.columns.tolist())\n",
    "show_df_head(df)"
   ]
  },
  {
   "cell_type": "code",
   "execution_count": null,
   "id": "66338c3d",
   "metadata": {},
   "outputs": [],
   "source": []
  }
 ],
 "metadata": {
  "kernelspec": {
   "display_name": "venv",
   "language": "python",
   "name": "python3"
  },
  "language_info": {
   "codemirror_mode": {
    "name": "ipython",
    "version": 3
   },
   "file_extension": ".py",
   "mimetype": "text/x-python",
   "name": "python",
   "nbconvert_exporter": "python",
   "pygments_lexer": "ipython3",
   "version": "3.12.7"
  }
 },
 "nbformat": 4,
 "nbformat_minor": 5
}
